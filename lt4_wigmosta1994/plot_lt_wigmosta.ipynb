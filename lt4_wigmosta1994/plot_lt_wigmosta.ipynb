{
 "cells": [
  {
   "cell_type": "code",
   "execution_count": 1,
   "metadata": {},
   "outputs": [],
   "source": [
    "S_PER_HOUR = 3600\n",
    "MM_PER_M = 1000"
   ]
  },
  {
   "cell_type": "code",
   "execution_count": 2,
   "metadata": {},
   "outputs": [
    {
     "ename": "NameError",
     "evalue": "name 'xr' is not defined",
     "output_type": "error",
     "traceback": [
      "\u001b[0;31m---------------------------------------------------------------------------\u001b[0m",
      "\u001b[0;31mNameError\u001b[0m                                 Traceback (most recent call last)",
      "\u001b[0;32m<ipython-input-2-7c6632645792>\u001b[0m in \u001b[0;36m<module>\u001b[0;34m()\u001b[0m\n\u001b[0;32m----> 1\u001b[0;31m \u001b[0mds1\u001b[0m \u001b[0;34m=\u001b[0m \u001b[0mxr\u001b[0m\u001b[0;34m.\u001b[0m\u001b[0mopen_dataset\u001b[0m\u001b[0;34m(\u001b[0m\u001b[0;34m'./output/syntheticHillslope-exp1_output_timestep.nc'\u001b[0m\u001b[0;34m)\u001b[0m\u001b[0;34m\u001b[0m\u001b[0;34m\u001b[0m\u001b[0m\n\u001b[0m\u001b[1;32m      2\u001b[0m \u001b[0mds2\u001b[0m \u001b[0;34m=\u001b[0m \u001b[0mxr\u001b[0m\u001b[0;34m.\u001b[0m\u001b[0mopen_dataset\u001b[0m\u001b[0;34m(\u001b[0m\u001b[0;34m'./output/syntheticHillslope-exp2_output_timestep.nc'\u001b[0m\u001b[0;34m)\u001b[0m\u001b[0;34m\u001b[0m\u001b[0;34m\u001b[0m\u001b[0m\n",
      "\u001b[0;31mNameError\u001b[0m: name 'xr' is not defined"
     ]
    }
   ],
   "source": [
    "ds1 = xr.open_dataset('./output/syntheticHillslope-exp1_output_timestep.nc')\n",
    "ds2 = xr.open_dataset('./output/syntheticHillslope-exp2_output_timestep.nc')"
   ]
  },
  {
   "cell_type": "code",
   "execution_count": 3,
   "metadata": {},
   "outputs": [],
   "source": [
    "def drainable_water(ds):\n",
    "    soil_slice = slice(0, int(ds['nSoil'].values[0]))\n",
    "    return (ds['mLayerDepth'].isel(midToto=soil_slice) \n",
    "            * (ds['mLayerVolFracLiq'].isel(midToto=soil_slice) \n",
    "               - ds['fieldCapacity'])).sum(dim='midToto')"
   ]
  },
  {
   "cell_type": "code",
   "execution_count": 4,
   "metadata": {},
   "outputs": [
    {
     "name": "stdout",
     "output_type": "stream",
     "text": [
      "Populating the interactive namespace from numpy and matplotlib\n"
     ]
    }
   ],
   "source": [
    "%pylab inline\n",
    "import matplotlib as mpl\n",
    "import xarray as xr"
   ]
  },
  {
   "cell_type": "code",
   "execution_count": 5,
   "metadata": {},
   "outputs": [
    {
     "ename": "NameError",
     "evalue": "name 'ds1' is not defined",
     "output_type": "error",
     "traceback": [
      "\u001b[0;31m---------------------------------------------------------------------------\u001b[0m",
      "\u001b[0;31mNameError\u001b[0m                                 Traceback (most recent call last)",
      "\u001b[0;32m<ipython-input-5-ec44508b740b>\u001b[0m in \u001b[0;36m<module>\u001b[0;34m()\u001b[0m\n\u001b[1;32m     14\u001b[0m \u001b[0mdomain_area\u001b[0m \u001b[0;34m=\u001b[0m \u001b[0mhillWidth\u001b[0m \u001b[0;34m*\u001b[0m \u001b[0mtotalLength\u001b[0m\u001b[0;34m\u001b[0m\u001b[0;34m\u001b[0m\u001b[0m\n\u001b[1;32m     15\u001b[0m \u001b[0;34m\u001b[0m\u001b[0m\n\u001b[0;32m---> 16\u001b[0;31m \u001b[0mhill_dist\u001b[0m \u001b[0;34m=\u001b[0m \u001b[0mnp\u001b[0m\u001b[0;34m.\u001b[0m\u001b[0marange\u001b[0m\u001b[0;34m(\u001b[0m\u001b[0;36m0\u001b[0m\u001b[0;34m,\u001b[0m \u001b[0mlen\u001b[0m\u001b[0;34m(\u001b[0m\u001b[0mds1\u001b[0m\u001b[0;34m.\u001b[0m\u001b[0mhru\u001b[0m\u001b[0;34m)\u001b[0m\u001b[0;34m)\u001b[0m\u001b[0;34m\u001b[0m\u001b[0;34m\u001b[0m\u001b[0m\n\u001b[0m\u001b[1;32m     17\u001b[0m \u001b[0mkinematic_dist\u001b[0m \u001b[0;34m=\u001b[0m \u001b[0mnp\u001b[0m\u001b[0;34m.\u001b[0m\u001b[0mlinspace\u001b[0m\u001b[0;34m(\u001b[0m\u001b[0;36m0\u001b[0m\u001b[0;34m,\u001b[0m \u001b[0mtotalLength\u001b[0m\u001b[0;34m,\u001b[0m \u001b[0mnum\u001b[0m\u001b[0;34m=\u001b[0m\u001b[0;36m1000\u001b[0m\u001b[0;34m)\u001b[0m\u001b[0;34m\u001b[0m\u001b[0;34m\u001b[0m\u001b[0m\n",
      "\u001b[0;31mNameError\u001b[0m: name 'ds1' is not defined"
     ]
    }
   ],
   "source": [
    "TOPMODEL_exp1 = 1.\n",
    "surfHydCond1 = 0.3\n",
    "\n",
    "TOPMODEL_exp2 = 3.0\n",
    "surfHydCond2 = 3.0\n",
    "\n",
    "tan_slope = 0.3\n",
    "soilDepth = 1.5\n",
    "porosity = 0.25\n",
    "qRain = 0.002\n",
    "\n",
    "totalLength = 50.\n",
    "hillWidth = 100.\n",
    "domain_area = hillWidth * totalLength\n",
    "\n",
    "hill_dist = np.arange(0, len(ds1.hru))\n",
    "kinematic_dist = np.linspace(0, totalLength, num=1000)"
   ]
  },
  {
   "cell_type": "code",
   "execution_count": 6,
   "metadata": {},
   "outputs": [],
   "source": [
    "def kinematic_storage(surfHydCond, soilDepth, TOPMODEL_exp, porosity, qrain, itime, hill_dist):\n",
    "    t0 = surfHydCond * soilDepth / TOPMODEL_exp\n",
    "    x1 = t0 * tan_slope / qRain\n",
    "    x2 = itime * qRain / (porosity * soilDepth)\n",
    "    xL = min(x1 * x2 ** TOPMODEL_exp, hill_dist[-1])\n",
    "    \n",
    "    hS = soilDepth * ((qRain * hill_dist) / (t0 * tan_slope)) ** (1./TOPMODEL_exp)\n",
    "    hL = soilDepth * ((qRain * xL) / (t0 * tan_slope)) ** (1./TOPMODEL_exp)\n",
    "    hS[hS>hL] = hL\n",
    "    return hS"
   ]
  },
  {
   "cell_type": "code",
   "execution_count": 7,
   "metadata": {},
   "outputs": [],
   "source": [
    "def kinematic_runoff(surfHydCond, soilDepth, TOPMODEL_exp, porosity, domain_area, hillWidth, hill_dist, qRain):\n",
    "    t0 = surfHydCond * soilDepth / TOPMODEL_exp\n",
    "    hS = soilDepth * (qRain[0] * hill_dist / (t0 * tan_slope)) ** (1/TOPMODEL_exp)\n",
    "    qKin = np.ones_like(qRain) * -9999\n",
    "    stop_rain_idx = None\n",
    "    for i, q in enumerate(qRain):\n",
    "        if q > 0:\n",
    "            tc = i\n",
    "            x1 = t0 * tan_slope / q\n",
    "            x2 = tc * q / (porosity * soilDepth)\n",
    "            xL = min(x1*x2 ** TOPMODEL_exp, hill_dist[-1])\n",
    "            hL = soilDepth * (q * xL / (t0 * tan_slope)) ** (1/TOPMODEL_exp)\n",
    "            qKin[i] = (1/domain_area) * hillWidth * tan_slope * t0 * (hL / soilDepth) ** TOPMODEL_exp\n",
    "        elif not stop_rain_idx:\n",
    "            stop_rain_idx = i\n",
    "        \n",
    "    \n",
    "    dtdz = (tan_slope * t0 / soilDepth) * TOPMODEL_exp * (hS / soilDepth) ** (TOPMODEL_exp - 1)\n",
    "    dxdt = dtdz / porosity\n",
    "    td = 550.\n",
    "    delX = totalLength - hill_dist\n",
    "    tExit = td + delX / dxdt\n",
    "    qFall = (1/domain_area) * hillWidth * tan_slope * t0 * (hS/soilDepth) ** TOPMODEL_exp\n",
    "    qKin = qKin[qKin > 0]\n",
    "    return qKin, qFall, tExit"
   ]
  },
  {
   "cell_type": "code",
   "execution_count": 8,
   "metadata": {},
   "outputs": [
    {
     "ename": "NameError",
     "evalue": "name 'hill_dist' is not defined",
     "output_type": "error",
     "traceback": [
      "\u001b[0;31m---------------------------------------------------------------------------\u001b[0m",
      "\u001b[0;31mNameError\u001b[0m                                 Traceback (most recent call last)",
      "\u001b[0;32m<ipython-input-8-af8a1bea0d1d>\u001b[0m in \u001b[0;36m<module>\u001b[0;34m()\u001b[0m\n\u001b[1;32m     13\u001b[0m \u001b[0mitime\u001b[0m\u001b[0;34m=\u001b[0m\u001b[0;36m35\u001b[0m\u001b[0;34m\u001b[0m\u001b[0;34m\u001b[0m\u001b[0m\n\u001b[1;32m     14\u001b[0m \u001b[0maxes\u001b[0m\u001b[0;34m[\u001b[0m\u001b[0;36m0\u001b[0m\u001b[0;34m]\u001b[0m\u001b[0;34m.\u001b[0m\u001b[0mset_ylim\u001b[0m\u001b[0;34m(\u001b[0m\u001b[0;34m[\u001b[0m\u001b[0;36m0\u001b[0m\u001b[0;34m,\u001b[0m \u001b[0;36m0.5\u001b[0m\u001b[0;34m]\u001b[0m\u001b[0;34m)\u001b[0m\u001b[0;34m\u001b[0m\u001b[0;34m\u001b[0m\u001b[0m\n\u001b[0;32m---> 15\u001b[0;31m \u001b[0maxes\u001b[0m\u001b[0;34m[\u001b[0m\u001b[0;36m0\u001b[0m\u001b[0;34m]\u001b[0m\u001b[0;34m.\u001b[0m\u001b[0mplot\u001b[0m\u001b[0;34m(\u001b[0m\u001b[0mhill_dist\u001b[0m\u001b[0;34m,\u001b[0m \u001b[0mdrainable_water\u001b[0m\u001b[0;34m(\u001b[0m\u001b[0mds1\u001b[0m\u001b[0;34m.\u001b[0m\u001b[0misel\u001b[0m\u001b[0;34m(\u001b[0m\u001b[0mtime\u001b[0m\u001b[0;34m=\u001b[0m\u001b[0mitime\u001b[0m\u001b[0;34m)\u001b[0m\u001b[0;34m)\u001b[0m\u001b[0;34m,\u001b[0m \u001b[0mmarker\u001b[0m\u001b[0;34m=\u001b[0m\u001b[0;34m'o'\u001b[0m\u001b[0;34m,\u001b[0m \u001b[0mmarkerfacecolor\u001b[0m\u001b[0;34m=\u001b[0m\u001b[0;34m'None'\u001b[0m\u001b[0;34m)\u001b[0m\u001b[0;34m\u001b[0m\u001b[0;34m\u001b[0m\u001b[0m\n\u001b[0m\u001b[1;32m     16\u001b[0m \u001b[0maxes\u001b[0m\u001b[0;34m[\u001b[0m\u001b[0;36m0\u001b[0m\u001b[0;34m]\u001b[0m\u001b[0;34m.\u001b[0m\u001b[0mplot\u001b[0m\u001b[0;34m(\u001b[0m\u001b[0mhill_dist\u001b[0m\u001b[0;34m,\u001b[0m \u001b[0mdrainable_water\u001b[0m\u001b[0;34m(\u001b[0m\u001b[0mds2\u001b[0m\u001b[0;34m.\u001b[0m\u001b[0misel\u001b[0m\u001b[0;34m(\u001b[0m\u001b[0mtime\u001b[0m\u001b[0;34m=\u001b[0m\u001b[0mitime\u001b[0m\u001b[0;34m)\u001b[0m\u001b[0;34m)\u001b[0m\u001b[0;34m,\u001b[0m \u001b[0mmarker\u001b[0m\u001b[0;34m=\u001b[0m\u001b[0;34m'o'\u001b[0m\u001b[0;34m,\u001b[0m \u001b[0mmarkerfacecolor\u001b[0m\u001b[0;34m=\u001b[0m\u001b[0;34m'None'\u001b[0m\u001b[0;34m)\u001b[0m\u001b[0;34m\u001b[0m\u001b[0;34m\u001b[0m\u001b[0m\n\u001b[1;32m     17\u001b[0m \u001b[0;34m\u001b[0m\u001b[0m\n",
      "\u001b[0;31mNameError\u001b[0m: name 'hill_dist' is not defined"
     ]
    },
    {
     "data": {
      "image/png": "[encoded data removed]",
      "text/plain": [
       "<Figure size 1008x648 with 5 Axes>"
      ]
     },
     "metadata": {},
     "output_type": "display_data"
    }
   ],
   "source": [
    "fig = plt.figure(constrained_layout=True, figsize=(14, 9))\n",
    "gs = fig.add_gridspec(1, 2)\n",
    "gs0 = gs[0].subgridspec(3, 1)\n",
    "gs1 = gs[1].subgridspec(2, 1)\n",
    "\n",
    "for a in range(3):\n",
    "    fig.add_subplot(gs0[a, 0])\n",
    "for b in range(2):\n",
    "    fig.add_subplot(gs1[b, 0])\n",
    "    \n",
    "axes = fig.axes\n",
    "\n",
    "itime=35\n",
    "axes[0].set_ylim([0, 0.5])\n",
    "axes[0].plot(hill_dist, drainable_water(ds1.isel(time=itime)), marker='o', markerfacecolor='None')\n",
    "axes[0].plot(hill_dist, drainable_water(ds2.isel(time=itime)), marker='o', markerfacecolor='None')\n",
    "\n",
    "hS1 = kinematic_storage(surfHydCond1, soilDepth, TOPMODEL_exp1, porosity, qRain, itime, kinematic_dist)\n",
    "hS2 = kinematic_storage(surfHydCond2, soilDepth, TOPMODEL_exp2, porosity, qRain, itime, kinematic_dist)\n",
    "axes[0].plot(kinematic_dist, porosity * hS1, color='blue')\n",
    "axes[0].plot(kinematic_dist, porosity * hS2, color='orange')\n",
    "\n",
    "itime = 70\n",
    "axes[1].set_ylim([0, 0.5])\n",
    "axes[1].plot(hill_dist, drainable_water(ds1.isel(time=itime)), marker='o', markerfacecolor='None')\n",
    "axes[1].plot(hill_dist, drainable_water(ds2.isel(time=itime)), marker='o', markerfacecolor='None')\n",
    "\n",
    "hS1 = kinematic_storage(surfHydCond1, soilDepth, TOPMODEL_exp1, porosity, qRain, itime, kinematic_dist)\n",
    "hS2 = kinematic_storage(surfHydCond2, soilDepth, TOPMODEL_exp2, porosity, qRain, itime, kinematic_dist)\n",
    "axes[1].plot(kinematic_dist, porosity * hS1, color='blue')\n",
    "axes[1].plot(kinematic_dist, porosity * hS2, color='orange')\n",
    "\n",
    "\n",
    "itime = 140\n",
    "axes[2].set_ylim([0, 0.5])\n",
    "axes[2].plot(hill_dist, drainable_water(ds1.isel(time=itime)), marker='o', markerfacecolor='None', label='SUMMA')\n",
    "axes[2].plot(hill_dist, drainable_water(ds2.isel(time=itime)), marker='o', markerfacecolor='None', label='SUMMA')\n",
    "\n",
    "hS1 = kinematic_storage(surfHydCond1, soilDepth, TOPMODEL_exp1, porosity, qRain, itime, kinematic_dist)\n",
    "hS2 = kinematic_storage(surfHydCond2, soilDepth, TOPMODEL_exp2, porosity, qRain, itime, kinematic_dist)\n",
    "axes[2].plot(kinematic_dist, porosity * hS1, label='Kinematic', color='blue')\n",
    "axes[2].plot(kinematic_dist, porosity * hS2, label='Kinematic', color='orange')\n",
    "axes[2].legend()\n",
    "\n",
    "\n",
    "qKin1, qFall1, texit1 = kinematic_runoff(surfHydCond1, soilDepth, TOPMODEL_exp1, porosity, domain_area, \n",
    "                                         hillWidth, hill_dist,  (ds1['pptrate'].isel(hru=0) * 3600 / 1000).values)\n",
    "axes[3].plot(np.arange(0, len(ds1.time)), MM_PER_M * S_PER_HOUR * ds1['averageRoutedRunoff'], color='blue', label='SUMMA')\n",
    "axes[3].plot(np.arange(0, len(qKin1)), MM_PER_M * qKin1, color='grey', label='Kinematic')\n",
    "axes[3].plot(texit1, MM_PER_M * qFall1, color='grey')\n",
    "axes[3].legend()\n",
    "\n",
    "qKin2, qFall2, texit2 = kinematic_runoff(surfHydCond2, soilDepth, TOPMODEL_exp2, porosity, domain_area, \n",
    "                                         hillWidth, hill_dist,  (ds1['pptrate'].isel(hru=0) * 3600 / 1000).values)\n",
    "axes[4].plot(np.arange(0, len(ds2.time)), MM_PER_M * S_PER_HOUR * ds2['averageRoutedRunoff'], color='red', label='SUMMA')\n",
    "axes[4].plot(np.arange(0, len(qKin2)), MM_PER_M * qKin2, color='grey', label='Kinematic')\n",
    "axes[4].plot(texit2, MM_PER_M * qFall2, color='grey')\n",
    "axes[4].legend()\n",
    "\n",
    "plt.savefig('./img/lt4_wigmosta.png')"
   ]
  },
  {
   "cell_type": "code",
   "execution_count": null,
   "metadata": {},
   "outputs": [],
   "source": []
  },
  {
   "cell_type": "code",
   "execution_count": null,
   "metadata": {},
   "outputs": [],
   "source": []
  },
  {
   "cell_type": "code",
   "execution_count": null,
   "metadata": {},
   "outputs": [],
   "source": []
  },
  {
   "cell_type": "code",
   "execution_count": null,
   "metadata": {},
   "outputs": [],
   "source": []
  }
 ],
 "metadata": {
  "kernelspec": {
   "display_name": "Python 3",
   "language": "python",
   "name": "python3"
  },
  "language_info": {
   "codemirror_mode": {
    "name": "ipython",
    "version": 3
   },
   "file_extension": ".py",
   "mimetype": "text/x-python",
   "name": "python",
   "nbconvert_exporter": "python",
   "pygments_lexer": "ipython3",
   "version": "3.6.9"
  }
 },
 "nbformat": 4,
 "nbformat_minor": 4
}
