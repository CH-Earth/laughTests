{
 "cells": [
  {
   "cell_type": "markdown",
   "metadata": {},
   "source": [
    "# Laugh test 3: Pressure in layered soils\n",
    "This notebook plots SUMMA simulations for the test case defined in Vanderborght et al. (2005). \n",
    "\n",
    "## Expectations\n",
    "The simulations should reproduce the analytical solutions in Figure 2 in Vanderborght et al. (2005):\n",
    "\n",
    "<div>\n",
    "<img src=\"img/vanderborght2005_fig2.png\" width=\"800\"/>\n",
    "    <center> Figures 2 in Vanderborght et al. (2005) </center>\n",
    "</div>\n",
    "\n",
    "## Meta data\n",
    "\n",
    "| Data  | Value  |\n",
    "|:---|:---|\n",
    "| Model name| Structure for Unifying Multiple Modelling Alternatives (SUMMA) |\n",
    "| Model version  |  See attributes in output .nc file |\n",
    "| Model reference | Clark et al. (2015a,b) |\n",
    "| Model runs by | R. Zolfaghari |\n",
    "| Notebook code by | W. Knoben, A. Bennett |\n",
    "    \n",
    "## Reference(s)\n",
    "Clark, M. P., Nijssen, B., Lundquist, J. D., Kavetski, D., Rupp, D. E., Woods, R. A., … Rasmussen, R. M. (2015a). A unified approach for process-based hydrologic modeling: 1. Modeling concept. Water Resources Research, 51(4), 2498–2514. https://doi.org/10.1002/2015WR017198\n",
    "\n",
    "Clark, M. P., Nijssen, B., Lundquist, J. D., Kavetski, D., Rupp, D. E., Woods, R. A., … Marks, D. G. (2015b). A unified approach for process-based hydrologic modeling: 2. Model implementation and case studies. Water Resources Research, 51, 2515–2542. https://doi.org/10.1002/2015WR017200\n",
    "\n",
    "Vanderborght, J., R. Kasteel, M. Herbst, M. Javaux, D. Thiery, M. Vanclooster, C. Mouvet, and H. Vereecken, 2005: A set of analytical benchmarks to test numerical models of flow and transport in soils. VADOSE ZONE JOURNAL, 4 (1), 206–221"
   ]
  },
  {
   "cell_type": "code",
   "execution_count": 6,
   "metadata": {},
   "outputs": [
    {
     "name": "stdout",
     "output_type": "stream",
     "text": [
      "Populating the interactive namespace from numpy and matplotlib\n"
     ]
    },
    {
     "name": "stderr",
     "output_type": "stream",
     "text": [
      "/usr/lib/python3/dist-packages/IPython/core/magics/pylab.py:161: UserWarning: pylab import has clobbered these variables: ['axes']\n",
      "`%matplotlib` prevents importing * from pylab and numpy\n",
      "  \"\\n`%matplotlib` prevents importing * from pylab and numpy\"\n"
     ]
    }
   ],
   "source": [
    "# modules\n",
    "%pylab inline\n",
    "import xarray as xr\n",
    "import matplotlib as mpl\n",
    "from scipy.optimize import newton"
   ]
  },
  {
   "cell_type": "code",
   "execution_count": 7,
   "metadata": {},
   "outputs": [],
   "source": [
    "# Load data\n",
    "ds1 = xr.open_dataset('./output/vanderborght2005_exp1_output_timestep.nc').isel(hru=0, gru=0, time=0).load()\n",
    "ds1 = ds1.where(ds1['mLayerDepth'] != -9999, drop=True)\n",
    "ds1['mLayerMatricHead'] = ds1['mLayerMatricHead'].isel(midToto=0)\n",
    "\n",
    "ds2 = xr.open_dataset('./output/vanderborght2005_exp2_output_timestep.nc').isel(hru=0, gru=0, time=0).load()\n",
    "ds2 = ds2.where(ds2['mLayerDepth'] != -9999, drop=True)\n",
    "ds2['mLayerMatricHead'] = ds2['mLayerMatricHead'].isel(midToto=0)\n",
    "\n",
    "ds3 = xr.open_dataset('./output/vanderborght2005_exp3_output_timestep.nc').isel(hru=0, gru=0, time=0).load()\n",
    "ds3 = ds3.where(ds3['mLayerDepth'] != -9999, drop=True)\n",
    "ds3['mLayerMatricHead'] = ds3['mLayerMatricHead'].isel(midToto=0)"
   ]
  },
  {
   "cell_type": "code",
   "execution_count": 8,
   "metadata": {},
   "outputs": [],
   "source": [
    "# Analytical solution\n",
    "def k_psi(psi, ksat, alpha, n, m):\n",
    "    if psi < 0:\n",
    "        return ksat * ( \n",
    "            ( ( (1 - (psi*alpha)**(n-1) * (1 + (psi*alpha)**n)**(-m))**2) /  \n",
    "              ( (1 + (psi*alpha)**n)**(m/2))))\n",
    "    else:\n",
    "        return ksat\n",
    "\n",
    "    \n",
    "def solve_psi(psi, q, ksat, alpha, n, m):\n",
    "    return q - k_psi(psi, ksat, alpha, n, m)\n",
    "\n",
    "\n",
    "def integrate_psi(psi0, psi1, qIn, ksat, alpha, n, m):\n",
    "    psi = np.linspace(psi0, psi1, num=100)\n",
    "    dpsi = psi[1] - psi[0]\n",
    "    return -np.sum([dpsi / ((qIn / k_psi(p, ksat, alpha, n, m)) - 1) for p in psi])\n",
    "\n",
    "\n",
    "def vanderborght_analytic(top_soil, bottom_soil, q=0.5, \n",
    "                          max_iters=100, delx_max=2., tol=1e-12, delpsi_scale=0.3):\n",
    "    psi_init = -25.\n",
    "    ksat, alpha, n, m = param_dict[bot_soil]\n",
    "    psi_bot = newton(solve_psi, psi_init, args=(q, ksat, alpha, n, m), maxiter=500)\n",
    "    \n",
    "    ksat, alpha, n, m= param_dict[top_soil]\n",
    "    psi_top = newton(solve_psi, psi_init, args=(q, ksat, alpha, n, m), maxiter=500)\n",
    "    \n",
    "    psi = np.linspace(psi_bot, psi_top, num=500)\n",
    "    depths = np.zeros_like(psi)\n",
    "    depths[0] = 50.\n",
    "    \n",
    "    for i, (psi0, psi1) in enumerate(zip(psi[:-1], psi[1:])):\n",
    "        psi0_base = psi0\n",
    "        psi1_base = psi1\n",
    "        dpsi = psi1_base - psi0\n",
    "        depths[i + 1] = depths[i]\n",
    "        \n",
    "        for trial in range(max_iters):\n",
    "            psi1 = psi0 + dpsi\n",
    "            if dpsi > 0:\n",
    "                psi1 = max(psi1, psi1_base)\n",
    "            else:\n",
    "                psi1 = min(psi1, psi1_base)\n",
    "            dpsi = psi1 - psi0\n",
    "            \n",
    "            delx = integrate_psi(psi0, psi1, q, ksat, alpha, n, m)\n",
    "            if np.abs(delx) > delx_max:\n",
    "                dpsi *= delpsi_scale\n",
    "            else:\n",
    "                psi0 = psi1\n",
    "                depths[i+1] += delx\n",
    "            if abs(psi0 - psi1_base) < tol:\n",
    "                break\n",
    "    return psi, depths"
   ]
  },
  {
   "cell_type": "code",
   "execution_count": 9,
   "metadata": {},
   "outputs": [],
   "source": [
    "# Plotting settings\n",
    "M_TO_CM = 100.\n",
    "soil_tuples = [('loam', 'sand'), ('sand', 'loam'), ('clay', 'sand')]\n",
    "param_dict = {\n",
    "    # Soil - ksat , alpha,   n,  m\n",
    "    'sand': (1000., -0.15, 3.0, 1-1/3.0),\n",
    "    'loam': (  50., -0.04, 1.6, 1-1/1.6),\n",
    "    'clay': (  10., -0.01, 1.1, 1-1/1.1)\n",
    "}"
   ]
  },
  {
   "cell_type": "code",
   "execution_count": 10,
   "metadata": {},
   "outputs": [
    {
     "ename": "ValueError",
     "evalue": "must supply either single 'dim' or 'axis' argument to cumsum",
     "output_type": "error",
     "traceback": [
      "\u001b[0;31m---------------------------------------------------------------------------\u001b[0m",
      "\u001b[0;31mValueError\u001b[0m                                Traceback (most recent call last)",
      "\u001b[0;32m<ipython-input-10-2de58df98b68>\u001b[0m in \u001b[0;36m<module>\u001b[0;34m()\u001b[0m\n\u001b[1;32m      4\u001b[0m \u001b[0mfig\u001b[0m\u001b[0;34m,\u001b[0m \u001b[0maxes\u001b[0m \u001b[0;34m=\u001b[0m \u001b[0mplt\u001b[0m\u001b[0;34m.\u001b[0m\u001b[0msubplots\u001b[0m\u001b[0;34m(\u001b[0m\u001b[0;36m1\u001b[0m\u001b[0;34m,\u001b[0m \u001b[0;36m3\u001b[0m\u001b[0;34m,\u001b[0m \u001b[0msharex\u001b[0m\u001b[0;34m=\u001b[0m\u001b[0;32mTrue\u001b[0m\u001b[0;34m,\u001b[0m \u001b[0msharey\u001b[0m\u001b[0;34m=\u001b[0m\u001b[0;32mTrue\u001b[0m\u001b[0;34m,\u001b[0m \u001b[0mfigsize\u001b[0m\u001b[0;34m=\u001b[0m\u001b[0;34m(\u001b[0m\u001b[0;36m22\u001b[0m\u001b[0;34m,\u001b[0m \u001b[0;36m9\u001b[0m\u001b[0;34m)\u001b[0m\u001b[0;34m)\u001b[0m\u001b[0;34m\u001b[0m\u001b[0;34m\u001b[0m\u001b[0m\n\u001b[1;32m      5\u001b[0m \u001b[0;32mfor\u001b[0m \u001b[0mi\u001b[0m\u001b[0;34m,\u001b[0m \u001b[0;34m(\u001b[0m\u001b[0mds\u001b[0m\u001b[0;34m,\u001b[0m \u001b[0;34m(\u001b[0m\u001b[0mtop_soil\u001b[0m\u001b[0;34m,\u001b[0m \u001b[0mbot_soil\u001b[0m\u001b[0;34m)\u001b[0m\u001b[0;34m)\u001b[0m \u001b[0;32min\u001b[0m \u001b[0menumerate\u001b[0m\u001b[0;34m(\u001b[0m\u001b[0mzip\u001b[0m\u001b[0;34m(\u001b[0m\u001b[0;34m[\u001b[0m\u001b[0mds1\u001b[0m\u001b[0;34m,\u001b[0m \u001b[0mds2\u001b[0m\u001b[0;34m,\u001b[0m \u001b[0mds3\u001b[0m\u001b[0;34m]\u001b[0m\u001b[0;34m,\u001b[0m \u001b[0msoil_tuples\u001b[0m\u001b[0;34m)\u001b[0m\u001b[0;34m)\u001b[0m\u001b[0;34m:\u001b[0m\u001b[0;34m\u001b[0m\u001b[0;34m\u001b[0m\u001b[0m\n\u001b[0;32m----> 6\u001b[0;31m     \u001b[0maxes\u001b[0m\u001b[0;34m[\u001b[0m\u001b[0mi\u001b[0m\u001b[0;34m]\u001b[0m\u001b[0;34m.\u001b[0m\u001b[0mplot\u001b[0m\u001b[0;34m(\u001b[0m\u001b[0mM_TO_CM\u001b[0m \u001b[0;34m*\u001b[0m \u001b[0mds\u001b[0m\u001b[0;34m[\u001b[0m\u001b[0;34m'mLayerMatricHead'\u001b[0m\u001b[0;34m]\u001b[0m\u001b[0;34m,\u001b[0m \u001b[0mM_TO_CM\u001b[0m \u001b[0;34m*\u001b[0m \u001b[0mnp\u001b[0m\u001b[0;34m.\u001b[0m\u001b[0mcumsum\u001b[0m\u001b[0;34m(\u001b[0m\u001b[0mds\u001b[0m\u001b[0;34m[\u001b[0m\u001b[0;34m'mLayerDepth'\u001b[0m\u001b[0;34m]\u001b[0m\u001b[0;34m)\u001b[0m \u001b[0;34m-\u001b[0m \u001b[0;36m1\u001b[0m\u001b[0;34m,\u001b[0m \u001b[0mcolor\u001b[0m\u001b[0;34m=\u001b[0m\u001b[0;34m'red'\u001b[0m\u001b[0;34m,\u001b[0m \u001b[0mlabel\u001b[0m\u001b[0;34m=\u001b[0m\u001b[0;34m'Simulated'\u001b[0m\u001b[0;34m)\u001b[0m\u001b[0;34m\u001b[0m\u001b[0;34m\u001b[0m\u001b[0m\n\u001b[0m\u001b[1;32m      7\u001b[0m     \u001b[0maxes\u001b[0m\u001b[0;34m[\u001b[0m\u001b[0mi\u001b[0m\u001b[0;34m]\u001b[0m\u001b[0;34m.\u001b[0m\u001b[0maxhline\u001b[0m\u001b[0;34m(\u001b[0m\u001b[0;36m50\u001b[0m\u001b[0;34m,\u001b[0m \u001b[0mlinestyle\u001b[0m\u001b[0;34m=\u001b[0m\u001b[0;34m'--'\u001b[0m\u001b[0;34m,\u001b[0m \u001b[0mcolor\u001b[0m\u001b[0;34m=\u001b[0m\u001b[0;34m'grey'\u001b[0m\u001b[0;34m)\u001b[0m\u001b[0;34m\u001b[0m\u001b[0;34m\u001b[0m\u001b[0m\n\u001b[1;32m      8\u001b[0m     \u001b[0maxes\u001b[0m\u001b[0;34m[\u001b[0m\u001b[0mi\u001b[0m\u001b[0;34m]\u001b[0m\u001b[0;34m.\u001b[0m\u001b[0mset_ylim\u001b[0m\u001b[0;34m(\u001b[0m\u001b[0;34m[\u001b[0m\u001b[0;36m0\u001b[0m\u001b[0;34m,\u001b[0m \u001b[0;36m100\u001b[0m\u001b[0;34m]\u001b[0m\u001b[0;34m)\u001b[0m\u001b[0;34m\u001b[0m\u001b[0;34m\u001b[0m\u001b[0m\n",
      "\u001b[0;32m<__array_function__ internals>\u001b[0m in \u001b[0;36mcumsum\u001b[0;34m(*args, **kwargs)\u001b[0m\n",
      "\u001b[0;32m/usr/local/lib/python3.6/dist-packages/numpy/core/fromnumeric.py\u001b[0m in \u001b[0;36mcumsum\u001b[0;34m(a, axis, dtype, out)\u001b[0m\n\u001b[1;32m   2468\u001b[0m \u001b[0;34m\u001b[0m\u001b[0m\n\u001b[1;32m   2469\u001b[0m     \"\"\"\n\u001b[0;32m-> 2470\u001b[0;31m     \u001b[0;32mreturn\u001b[0m \u001b[0m_wrapfunc\u001b[0m\u001b[0;34m(\u001b[0m\u001b[0ma\u001b[0m\u001b[0;34m,\u001b[0m \u001b[0;34m'cumsum'\u001b[0m\u001b[0;34m,\u001b[0m \u001b[0maxis\u001b[0m\u001b[0;34m=\u001b[0m\u001b[0maxis\u001b[0m\u001b[0;34m,\u001b[0m \u001b[0mdtype\u001b[0m\u001b[0;34m=\u001b[0m\u001b[0mdtype\u001b[0m\u001b[0;34m,\u001b[0m \u001b[0mout\u001b[0m\u001b[0;34m=\u001b[0m\u001b[0mout\u001b[0m\u001b[0;34m)\u001b[0m\u001b[0;34m\u001b[0m\u001b[0;34m\u001b[0m\u001b[0m\n\u001b[0m\u001b[1;32m   2471\u001b[0m \u001b[0;34m\u001b[0m\u001b[0m\n\u001b[1;32m   2472\u001b[0m \u001b[0;34m\u001b[0m\u001b[0m\n",
      "\u001b[0;32m/usr/local/lib/python3.6/dist-packages/numpy/core/fromnumeric.py\u001b[0m in \u001b[0;36m_wrapfunc\u001b[0;34m(obj, method, *args, **kwds)\u001b[0m\n\u001b[1;32m     59\u001b[0m \u001b[0;34m\u001b[0m\u001b[0m\n\u001b[1;32m     60\u001b[0m     \u001b[0;32mtry\u001b[0m\u001b[0;34m:\u001b[0m\u001b[0;34m\u001b[0m\u001b[0;34m\u001b[0m\u001b[0m\n\u001b[0;32m---> 61\u001b[0;31m         \u001b[0;32mreturn\u001b[0m \u001b[0mbound\u001b[0m\u001b[0;34m(\u001b[0m\u001b[0;34m*\u001b[0m\u001b[0margs\u001b[0m\u001b[0;34m,\u001b[0m \u001b[0;34m**\u001b[0m\u001b[0mkwds\u001b[0m\u001b[0;34m)\u001b[0m\u001b[0;34m\u001b[0m\u001b[0;34m\u001b[0m\u001b[0m\n\u001b[0m\u001b[1;32m     62\u001b[0m     \u001b[0;32mexcept\u001b[0m \u001b[0mTypeError\u001b[0m\u001b[0;34m:\u001b[0m\u001b[0;34m\u001b[0m\u001b[0;34m\u001b[0m\u001b[0m\n\u001b[1;32m     63\u001b[0m         \u001b[0;31m# A TypeError occurs if the object does have such a method in its\u001b[0m\u001b[0;34m\u001b[0m\u001b[0;34m\u001b[0m\u001b[0;34m\u001b[0m\u001b[0m\n",
      "\u001b[0;32m/usr/lib/python3/dist-packages/xarray/core/common.py\u001b[0m in \u001b[0;36mwrapped_func\u001b[0;34m(self, dim, axis, skipna, keep_attrs, **kwargs)\u001b[0m\n\u001b[1;32m     19\u001b[0m                              keep_attrs=False, **kwargs):\n\u001b[1;32m     20\u001b[0m                 return self.reduce(func, dim, axis, keep_attrs=keep_attrs,\n\u001b[0;32m---> 21\u001b[0;31m                                    skipna=skipna, allow_lazy=True, **kwargs)\n\u001b[0m\u001b[1;32m     22\u001b[0m         \u001b[0;32melse\u001b[0m\u001b[0;34m:\u001b[0m\u001b[0;34m\u001b[0m\u001b[0;34m\u001b[0m\u001b[0m\n\u001b[1;32m     23\u001b[0m             def wrapped_func(self, dim=None, axis=None, keep_attrs=False,\n",
      "\u001b[0;32m/usr/lib/python3/dist-packages/xarray/core/dataarray.py\u001b[0m in \u001b[0;36mreduce\u001b[0;34m(self, func, dim, axis, keep_attrs, **kwargs)\u001b[0m\n\u001b[1;32m   1359\u001b[0m             \u001b[0msummarized\u001b[0m \u001b[0mdata\u001b[0m \u001b[0;32mand\u001b[0m \u001b[0mthe\u001b[0m \u001b[0mindicated\u001b[0m \u001b[0mdimension\u001b[0m\u001b[0;34m(\u001b[0m\u001b[0ms\u001b[0m\u001b[0;34m)\u001b[0m \u001b[0mremoved\u001b[0m\u001b[0;34m.\u001b[0m\u001b[0;34m\u001b[0m\u001b[0;34m\u001b[0m\u001b[0m\n\u001b[1;32m   1360\u001b[0m         \"\"\"\n\u001b[0;32m-> 1361\u001b[0;31m         \u001b[0mvar\u001b[0m \u001b[0;34m=\u001b[0m \u001b[0mself\u001b[0m\u001b[0;34m.\u001b[0m\u001b[0mvariable\u001b[0m\u001b[0;34m.\u001b[0m\u001b[0mreduce\u001b[0m\u001b[0;34m(\u001b[0m\u001b[0mfunc\u001b[0m\u001b[0;34m,\u001b[0m \u001b[0mdim\u001b[0m\u001b[0;34m,\u001b[0m \u001b[0maxis\u001b[0m\u001b[0;34m,\u001b[0m \u001b[0mkeep_attrs\u001b[0m\u001b[0;34m,\u001b[0m \u001b[0;34m**\u001b[0m\u001b[0mkwargs\u001b[0m\u001b[0;34m)\u001b[0m\u001b[0;34m\u001b[0m\u001b[0;34m\u001b[0m\u001b[0m\n\u001b[0m\u001b[1;32m   1362\u001b[0m         \u001b[0;32mreturn\u001b[0m \u001b[0mself\u001b[0m\u001b[0;34m.\u001b[0m\u001b[0m_replace_maybe_drop_dims\u001b[0m\u001b[0;34m(\u001b[0m\u001b[0mvar\u001b[0m\u001b[0;34m)\u001b[0m\u001b[0;34m\u001b[0m\u001b[0;34m\u001b[0m\u001b[0m\n\u001b[1;32m   1363\u001b[0m \u001b[0;34m\u001b[0m\u001b[0m\n",
      "\u001b[0;32m/usr/lib/python3/dist-packages/xarray/core/variable.py\u001b[0m in \u001b[0;36mreduce\u001b[0;34m(self, func, dim, axis, keep_attrs, allow_lazy, **kwargs)\u001b[0m\n\u001b[1;32m   1260\u001b[0m             \u001b[0;32mif\u001b[0m \u001b[0mdim\u001b[0m \u001b[0;32mis\u001b[0m \u001b[0;32mNone\u001b[0m \u001b[0;32mand\u001b[0m \u001b[0maxis\u001b[0m \u001b[0;32mis\u001b[0m \u001b[0;32mNone\u001b[0m\u001b[0;34m:\u001b[0m\u001b[0;34m\u001b[0m\u001b[0;34m\u001b[0m\u001b[0m\n\u001b[1;32m   1261\u001b[0m                 raise ValueError(\"must supply either single 'dim' or 'axis' \"\n\u001b[0;32m-> 1262\u001b[0;31m                                  \"argument to %s\" % (func.__name__))\n\u001b[0m\u001b[1;32m   1263\u001b[0m \u001b[0;34m\u001b[0m\u001b[0m\n\u001b[1;32m   1264\u001b[0m         \u001b[0;32mif\u001b[0m \u001b[0mdim\u001b[0m \u001b[0;32mis\u001b[0m \u001b[0;32mnot\u001b[0m \u001b[0;32mNone\u001b[0m\u001b[0;34m:\u001b[0m\u001b[0;34m\u001b[0m\u001b[0;34m\u001b[0m\u001b[0m\n",
      "\u001b[0;31mValueError\u001b[0m: must supply either single 'dim' or 'axis' argument to cumsum"
     ]
    },
    {
     "data": {
      "image/png": "[encoded data removed]",
      "text/plain": [
       "<Figure size 1584x648 with 3 Axes>"
      ]
     },
     "metadata": {},
     "output_type": "display_data"
    }
   ],
   "source": [
    "# Plot\n",
    "mpl.rcParams['xtick.labelsize'] = 16\n",
    "mpl.rcParams['ytick.labelsize'] = 16\n",
    "fig, axes = plt.subplots(1, 3, sharex=True, sharey=True, figsize=(22, 9))\n",
    "for i, (ds, (top_soil, bot_soil)) in enumerate(zip([ds1, ds2, ds3], soil_tuples)):\n",
    "    axes[i].plot(M_TO_CM * ds['mLayerMatricHead'], M_TO_CM * np.cumsum(ds['mLayerDepth'].values.flatten(), axis=0) - 1, color='red', label='Simulated')\n",
    "    axes[i].axhline(50, linestyle='--', color='grey')\n",
    "    axes[i].set_ylim([0, 100])\n",
    "    axes[i].set_xlim([-50, 0])\n",
    "    axes[i].invert_yaxis()\n",
    "    axes[i].set_xlabel('matric head (cm)', size=22)\n",
    "    axes[i].text(-40, 44, soil_tuples[i][0], size=20)\n",
    "    axes[i].text(-40, 58, soil_tuples[i][1], size=20)\n",
    "    \n",
    "    psi, depths = vanderborght_analytic(top_soil, bot_soil)\n",
    "    axes[i].plot(psi, depths, linestyle='--', color='black')\n",
    "    psi_bot = psi[np.argmax(depths)]\n",
    "    axes[i].plot([psi_bot, psi_bot], [50, 100], linestyle='--', color='black')\n",
    "    if min(depths) > 0:\n",
    "        psi_surf = psi[np.argmin(depths)]\n",
    "        axes[i].plot([psi_surf, psi_surf], [0, min(depths)], linestyle='--', color='black', label='Analytic')\n",
    "\n",
    "axes[1].legend(fontsize=16)\n",
    "axes[0].set_ylabel('depth (cm)', size=22)\n",
    "plt.savefig('./img/lt3_vanderborght2005.png')"
   ]
  },
  {
   "cell_type": "code",
   "execution_count": null,
   "metadata": {},
   "outputs": [],
   "source": []
  },
  {
   "cell_type": "code",
   "execution_count": null,
   "metadata": {},
   "outputs": [],
   "source": []
  }
 ],
 "metadata": {
  "kernelspec": {
   "display_name": "Python 3",
   "language": "python",
   "name": "python3"
  },
  "language_info": {
   "codemirror_mode": {
    "name": "ipython",
    "version": 3
   },
   "file_extension": ".py",
   "mimetype": "text/x-python",
   "name": "python",
   "nbconvert_exporter": "python",
   "pygments_lexer": "ipython3",
   "version": "3.6.9"
  }
 },
 "nbformat": 4,
 "nbformat_minor": 4
}
