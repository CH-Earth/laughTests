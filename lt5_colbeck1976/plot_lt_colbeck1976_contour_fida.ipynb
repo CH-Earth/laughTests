{
 "cells": [
  {
   "cell_type": "markdown",
   "metadata": {},
   "source": [
    "## To do\n",
    "\n",
    "- Agree on a title naming approach (e.g. do we keep \"Laugh test X:\", do we want to include the main reference in the title)\n",
    "- Check the expectations for this laugh test and update the image accordingly\n",
    "- Agree on what constitutes relevant meta data for these things\n",
    "- Update results with Reza's new ones\n",
    "- Do we want the code to be more elegant in terms of extracting length of data series, convert time from the .nc attributes etc?\n",
    "- Image format and specs?"
   ]
  },
  {
   "cell_type": "markdown",
   "metadata": {},
   "source": [
    "# Laugh test 5: Water movement through snow - countour plot\n",
    "This notebook plots SUMMA simulations for the test case defined in in Clobeck (1976) and further developed in Clark et al. (2017).\n",
    "\n",
    "## Expectations\n",
    "The simulations are compared to analytical solutions.\n",
    "\n",
    "## Workflow\n",
    "- Define the analytical solution\n",
    "- Load model simulations (.nc)\n",
    "- Extract `mLayerVolFracLiq` variable\n",
    "- Plot both\n",
    "\n",
    "## Meta data\n",
    "\n",
    "| Data  | Value  |\n",
    "|:---|:---|\n",
    "| Model name| Structure for Unifying Multiple Modelling Alternatives (SUMMA) |\n",
    "| Model version  |   |\n",
    "| Model reference | Clark et al. (2015a,b) |\n",
    "| Model runs by | M. Clark |\n",
    "| Model decisions | see attributes in output.nc  |\n",
    "| Model run date | see attributes in output.nc |\n",
    "| Notebook code by | W. Knoben, A. Bennett |\n",
    "    \n",
    "## Reference(s)\n",
    "Clark, M. P., Nijssen, B., Lundquist, J. D., Kavetski, D., Rupp, D. E., Woods, R. A., … Rasmussen, R. M. (2015a). A unified approach for process-based hydrologic modeling: 1. Modeling concept. Water Resources Research, 51(4), 2498–2514. https://doi.org/10.1002/2015WR017198\n",
    "\n",
    "Clark, M. P., Nijssen, B., Lundquist, J. D., Kavetski, D., Rupp, D. E., Woods, R. A., … Marks, D. G. (2015b). A unified approach for process-based hydrologic modeling: 2. Model implementation and case studies. Water Resources Research, 51, 2515–2542. https://doi.org/10.1002/2015WR017200\n",
    "\n",
    "Clark, M. P., B. Nijssen, and C. H. Luce (2017), An analytical test case for snow models, Water Resour. Res., 53, 909–\n",
    "922, doi:10.1002/2016WR019672.\n",
    "\n",
    "Colbeck, S., and E. A. Anderson (1982), The permeability of a melting snow cover, Water Resour. Res., 18(4), 904–908, doi:10.1029/WR012i003p00523"
   ]
  },
  {
   "cell_type": "code",
   "execution_count": 1,
   "metadata": {},
   "outputs": [],
   "source": [
    "# modules\n",
    "from pathlib import Path\n",
    "from matplotlib.ticker import MultipleLocator\n",
    "import xarray as xr # note, also needs netcdf4 library installed\n",
    "import matplotlib.pyplot as plt\n",
    "import numpy as np\n",
    "import sys"
   ]
  },
  {
   "cell_type": "markdown",
   "metadata": {},
   "source": [
    "## Analytical solution"
   ]
  },
  {
   "cell_type": "code",
   "execution_count": 2,
   "metadata": {},
   "outputs": [],
   "source": [
    "# Define constants\n",
    "gravity      =       9.80616  # acceleration of gravity              (m s-2)\n",
    "Cp_air       =    1005        # specific heat of air                 (J kg-1 K-1)\n",
    "Cp_ice       =    2114        # specific heat of ice                 (J kg-1 K-1)\n",
    "Cp_soil      =     850        # specific heat of soil                (J kg-1 K-1)\n",
    "Cp_water     =    4181        # specific heat of liquid water        (J kg-1 K-1)\n",
    "dynVisc      =       0.001781 # dynamic viscosity of water           (kg m-1 s-1)\n",
    "Tfreeze      =     273.16     # temperature at freezing              (K)\n",
    "LH_fus       =  333700        # latent heat of fusion                (J kg-1)\n",
    "LH_vap       = 2501000        # latent heat of vaporization          (J kg-1)\n",
    "LH_sub       = 2834700        # latent heat of sublimation           (J kg-1)\n",
    "iden_air     =       1.293    # intrinsic density of air             (kg m-3)\n",
    "iden_ice     =     917        # intrinsic density of ice             (kg m-3)\n",
    "iden_water   =    1000        # intrinsic density of liquid water    (kg m-3)\n",
    "secprday     =   86400        # number of seconds in a day"
   ]
  },
  {
   "cell_type": "code",
   "execution_count": 3,
   "metadata": {},
   "outputs": [],
   "source": [
    "# Define domain\n",
    "depth       =   1   # snow depth (meters)\n",
    "snowDensity = 300   # snow density (kg m-3)"
   ]
  },
  {
   "cell_type": "code",
   "execution_count": 4,
   "metadata": {},
   "outputs": [],
   "source": [
    "# Define flux\n",
    "rainfall  = 10**(-5)    # rainfall (m s-1)\n",
    "duration  = 10800       # duration of rainfall flux (seconds)\n",
    "startRain = 0           # start of rainfall"
   ]
  },
  {
   "cell_type": "code",
   "execution_count": 5,
   "metadata": {},
   "outputs": [],
   "source": [
    "# Define exponent in flux parameterization\n",
    "n = 3"
   ]
  },
  {
   "cell_type": "code",
   "execution_count": 6,
   "metadata": {},
   "outputs": [],
   "source": [
    "# Define initial relative water content for the 3 different test cases (ripe, refrozen, fresh snow)\n",
    "Sw = np.array([0.07, 0, 0])"
   ]
  },
  {
   "cell_type": "markdown",
   "metadata": {},
   "source": [
    "**Note:** the following calculations are done for the three test cases simultaneously"
   ]
  },
  {
   "cell_type": "code",
   "execution_count": 7,
   "metadata": {},
   "outputs": [
    {
     "name": "stdout",
     "output_type": "stream",
     "text": [
      "porosity = [0.72845336 0.67284624 0.67284624]\n"
     ]
    }
   ],
   "source": [
    "# Define porosity\n",
    "porosityVec = (snowDensity - iden_ice) / (iden_water*Sw - iden_ice)\n",
    "print('porosity = ' + str(porosityVec))"
   ]
  },
  {
   "cell_type": "code",
   "execution_count": 8,
   "metadata": {},
   "outputs": [
    {
     "name": "stdout",
     "output_type": "stream",
     "text": [
      "volFracLiq = [0.05099174 0.         0.        ]\n"
     ]
    }
   ],
   "source": [
    "# Define the volumetric fraction of liquid water\n",
    "volFracLiq = Sw*porosityVec\n",
    "print('volFracLiq = ' + str(volFracLiq))"
   ]
  },
  {
   "cell_type": "code",
   "execution_count": 9,
   "metadata": {},
   "outputs": [
    {
     "name": "stdout",
     "output_type": "stream",
     "text": [
      "volFracIce = [0.27154664 0.32715376 0.32715376]\n"
     ]
    }
   ],
   "source": [
    "# Define the volumetric fraction of ice\n",
    "volFracIce = 1 - porosityVec\n",
    "print('volFracIce = ' + str(volFracIce))"
   ]
  },
  {
   "cell_type": "code",
   "execution_count": 10,
   "metadata": {},
   "outputs": [
    {
     "name": "stdout",
     "output_type": "stream",
     "text": [
      "fracLiquid = [0.16997245 0.         0.        ]\n"
     ]
    }
   ],
   "source": [
    "# Compute fraction of liquid water\n",
    "volFracTot = volFracIce*iden_ice/iden_water + volFracLiq\n",
    "fracLiquid = volFracLiq/volFracTot\n",
    "print('fracLiquid = ' + str(fracLiquid))"
   ]
  },
  {
   "cell_type": "code",
   "execution_count": 11,
   "metadata": {},
   "outputs": [
    {
     "name": "stdout",
     "output_type": "stream",
     "text": [
      "ripeTemp = 273.11580359145404\n",
      "\u001b[1mNOTE:\u001b[0m should we explain why this is only done for ripe snow?\n"
     ]
    }
   ],
   "source": [
    "# Compute temperature based on the fraction of liquid water (K)\n",
    "fc_param = 50 \n",
    "ripeTemp = Tfreeze - ((1/fracLiquid[0] - 1)/fc_param**2)**(0.5)\n",
    "print('ripeTemp = ' + str(ripeTemp))\n",
    "print('\\033[1m' + 'NOTE:' + '\\033[0m' + ' should we explain why this is only done for ripe snow?')"
   ]
  },
  {
   "cell_type": "code",
   "execution_count": 12,
   "metadata": {},
   "outputs": [
    {
     "name": "stdout",
     "output_type": "stream",
     "text": [
      "residLiqVec[0.05099174 0.04709924 0.04709924]\n",
      "\n",
      "\u001b[1mNOTE:\u001b[0m this equation is written as \"Sw[0]*porosityVec\" in the IDL code,  calculating \"residLiqVec\" for all three experiments using the Initial relative water content Sw[0]  of the first experiment only. We need to clarify why this is done, because the result of Sw*porosityVec  is obviously different from the approach used here. See below\n",
      "Sw =          [0.07 0.   0.  ]\n",
      "porosityVec = [0.72845336 0.67284624 0.67284624]\n",
      "Sw*porosityVec =    [0.05099174 0.         0.        ]\n",
      "Sw[0]*porosityVec = [0.05099174 0.04709924 0.04709924]\n"
     ]
    }
   ],
   "source": [
    "# Refine residual liquid water content\n",
    "residLiqVec = Sw[0]*porosityVec\n",
    "print('residLiqVec' + str(residLiqVec))\n",
    "\n",
    "print('\\n\\033[1m' + 'NOTE:' + '\\033[0m' + ' this equation is written as \"Sw[0]*porosityVec\" in the IDL code, ', \n",
    "      'calculating \"residLiqVec\" for all three experiments using the Initial relative water content Sw[0] ' ,\n",
    "      'of the first experiment only. We need to clarify why this is done, because the result of Sw*porosityVec ',\n",
    "      'is obviously different from the approach used here. See below')\n",
    "print('Sw =          ' + str(Sw))\n",
    "print('porosityVec = ' +str(porosityVec))\n",
    "print('Sw*porosityVec =    ' + str(Sw*porosityVec))\n",
    "print('Sw[0]*porosityVec = ' + str(Sw[0]*porosityVec))"
   ]
  },
  {
   "cell_type": "code",
   "execution_count": 13,
   "metadata": {},
   "outputs": [],
   "source": [
    "# Define experiments\n",
    "expName   = ['Ripe snow', 'Refrozen snow', 'Fresh snow']    # experiment name\n",
    "grainSize = np.array([ 2.0, 2.0, 0.2]) / 1000               # grain size (m)\n",
    "snowTemp  = np.array([ripeTemp, -5 + Tfreeze, -5 + Tfreeze])# temperature (K)\n",
    "thetaLiq  = volFracLiq                                      # initial volumetric fraction of liquid water (-)"
   ]
  },
  {
   "cell_type": "code",
   "execution_count": 14,
   "metadata": {},
   "outputs": [
    {
     "ename": "NameError",
     "evalue": "name 'getDepth' is not defined",
     "output_type": "error",
     "traceback": [
      "\u001b[0;31m---------------------------------------------------------------------------\u001b[0m",
      "\u001b[0;31mNameError\u001b[0m                                 Traceback (most recent call last)",
      "\u001b[0;32m<ipython-input-14-ba1592121cec>\u001b[0m in \u001b[0;36m<module>\u001b[0;34m()\u001b[0m\n\u001b[1;32m    123\u001b[0m         \u001b[0;31m# case 4: propagation of the kinematic shock\u001b[0m\u001b[0;34m\u001b[0m\u001b[0;34m\u001b[0m\u001b[0;34m\u001b[0m\u001b[0m\n\u001b[1;32m    124\u001b[0m         \u001b[0;32melif\u001b[0m \u001b[0;34m(\u001b[0m\u001b[0mxTime\u001b[0m\u001b[0;34m[\u001b[0m\u001b[0miTime\u001b[0m\u001b[0;34m]\u001b[0m \u001b[0;34m>=\u001b[0m \u001b[0mtimeShock\u001b[0m\u001b[0;34m)\u001b[0m \u001b[0;32mand\u001b[0m \u001b[0;34m(\u001b[0m\u001b[0mxTime\u001b[0m\u001b[0;34m[\u001b[0m\u001b[0miTime\u001b[0m\u001b[0;34m]\u001b[0m \u001b[0;34m<\u001b[0m \u001b[0mtimeBottom\u001b[0m\u001b[0;34m)\u001b[0m\u001b[0;34m:\u001b[0m\u001b[0;34m\u001b[0m\u001b[0;34m\u001b[0m\u001b[0m\n\u001b[0;32m--> 125\u001b[0;31m             \u001b[0mdepthWetting\u001b[0m \u001b[0;34m=\u001b[0m \u001b[0mgetDepth\u001b[0m\u001b[0;34m(\u001b[0m\u001b[0mxTime\u001b[0m\u001b[0;34m[\u001b[0m\u001b[0miTime\u001b[0m\u001b[0;34m]\u001b[0m\u001b[0;34m,\u001b[0m \u001b[0mduration\u001b[0m\u001b[0;34m,\u001b[0m \u001b[0mtimeShock\u001b[0m\u001b[0;34m,\u001b[0m \u001b[0mdepthShock\u001b[0m\u001b[0;34m,\u001b[0m \u001b[0mdepth\u001b[0m\u001b[0;34m,\u001b[0m \u001b[0ma\u001b[0m\u001b[0;34m,\u001b[0m \u001b[0mb\u001b[0m\u001b[0;34m,\u001b[0m \u001b[0mc\u001b[0m\u001b[0;34m,\u001b[0m \u001b[0mn\u001b[0m\u001b[0;34m)\u001b[0m\u001b[0;34m\u001b[0m\u001b[0;34m\u001b[0m\u001b[0m\n\u001b[0m\u001b[1;32m    126\u001b[0m             \u001b[0mdepthDrying\u001b[0m  \u001b[0;34m=\u001b[0m \u001b[0mdepthWetting\u001b[0m\u001b[0;34m\u001b[0m\u001b[0;34m\u001b[0m\u001b[0m\n\u001b[1;32m    127\u001b[0m \u001b[0;34m\u001b[0m\u001b[0m\n",
      "\u001b[0;31mNameError\u001b[0m: name 'getDepth' is not defined"
     ]
    }
   ],
   "source": [
    "# Loop through experiments\n",
    "for iExp in range(0,3):\n",
    "\n",
    "    # Enable/disable prints for the analytical solution\n",
    "    printFlag = 0\n",
    "    \n",
    "    # print the experiment name\n",
    "    if printFlag: print(expName[iExp])\n",
    "\n",
    "    # get porosity and residual liquid water content\n",
    "    porosity = porosityVec[iExp]\n",
    "    residLiq = residLiqVec[iExp]\n",
    "    \n",
    "    # ----- Calculate variables -----\n",
    "    # compute hydraulic conductivity (m s-1)\n",
    "    permeability = grainSize[iExp]**2 * 0.077*np.exp(-7.8*snowDensity/iden_water)  # permeability (m2)\n",
    "    conductivity = permeability*iden_water*gravity/dynVisc                      # hydraulic conductivity (m s-1)\n",
    "    if printFlag: print('ratio           = ', str(permeability/grainSize[iExp]**2))\n",
    "    if printFlag: print('grainsize^2     = ', str(grainSize[iExp]**2))\n",
    "    if printFlag: print('permeability    = ', str(permeability))\n",
    "    if printFlag: print('conductivity    = ', str(conductivity))\n",
    "    \n",
    "    # define the volumetric fraction of water required to maintain the speed of the wetting front\n",
    "    satRequire   = (rainfall/conductivity)**(1/n)\n",
    "    thetaRequire = residLiq + satRequire*(porosity - residLiq) - thetaLiq[iExp]\n",
    "    if printFlag: print('residLiq        = ' + str(residLiq))\n",
    "    if printFlag: print('porosity        = ' + str(porosity))\n",
    "    if printFlag: print('satRequire      = ' + str(satRequire))\n",
    "    if printFlag: print('thetaRequire    = ' + str(thetaRequire))\n",
    "    \n",
    "    # define the level of saturation necessary to satisfy thermal requirements\n",
    "    heatRequire = (snowTemp[iExp] - Tfreeze)*(porosity - 1) * iden_ice*Cp_ice/(iden_water*LH_fus)\n",
    "    if printFlag: print('heatRequire     = ' + str(heatRequire))\n",
    "    \n",
    "    # compute the time required for the wetting front to reach the bottom of the snowpack\n",
    "    watRequire      = depth*(thetaRequire + heatRequire)  # water required so the entire profile = thetaRequire (m)\n",
    "    timeWetting     = watRequire/rainfall\n",
    "    celerityWetting = depth/timeWetting\n",
    "    if printFlag: print('watRequire      = ' + str(watRequire))\n",
    "    if printFlag: print('timeWetting     = ' + str(timeWetting))\n",
    "    if printFlag: print('timeWetting (h) = ' + str(timeWetting/3600))\n",
    "    if printFlag: print('celerityWetting = ' + str(celerityWetting))\n",
    "    \n",
    "    # compute the celerity (m s-1)\n",
    "    celerity = (n/(porosity - residLiq)) * conductivity**(1/n) * rainfall**((n - 1)/n)\n",
    "    if printFlag: print('celerity        = ' + str(celerity))\n",
    "    \n",
    "    # compute the lag time (s)\n",
    "    timeLag    = depth/celerity\n",
    "    timeDrying = duration + timeLag\n",
    "    if printFlag: print('lag time        = ' + str(timeLag))\n",
    "    \n",
    "    # ----- Check if kinematic shock occurs -----\n",
    "    # check if the snowpack reaches steady state\n",
    "    if (timeWetting < timeDrying):\n",
    "        \n",
    "        # no shock exists\n",
    "        timeShock  = 10 * 3600   # set the shock time to the end of the simulation (10 hours)\n",
    "        timeBottom = timeWetting # water reaches the bottom of the snowpack at timeWetting\n",
    "    \n",
    "    # check if the drying front overtakes the wetting front (kinematic shock)\n",
    "    else:\n",
    "    \n",
    "        # define the depth of the kinematic shock (the depth that the lines intersect)\n",
    "        # time is equal, so: depth/celerityWetting + startRain = depth/celerity + duration\n",
    "        # then: depth/celerityWetting - depth/celerity = duration - startRain\n",
    "        # so\n",
    "        depthShock = (duration - startRain) / (1/celerityWetting - 1/celerity)\n",
    "        if printFlag: print('depthShock = ' + str(depthShock))\n",
    "        \n",
    "        # get the time when the wetting front stops propagating at its maximum value\n",
    "        timeShock  = depthShock/celerity + duration\n",
    "        if printFlag: print('timeShock  = ' + str(timeShock/3600))\n",
    "        \n",
    "        # define short-cut variables\n",
    "        a = conductivity*(depthShock*(porosity - residLiq)/(n*conductivity))**(n/(n - 1))\n",
    "        b = (porosity - residLiq)*( ((porosity - residLiq)/(n*conductivity))**(1/(n - 1)) )\n",
    "        c = residLiq + heatRequire\n",
    "        \n",
    "        # time that shock reaches the bottom of the snowpack\n",
    "        tmp1       = a*(1 - n) - b*((n - 1)/n)*( depth**(n/(n - 1)) - depthShock**(n/(n - 1)) )\n",
    "        tmp2       = a*(1 - n)*(timeShock - duration)**(1/(1 - n)) + c*(depth - depthShock)\n",
    "        tb         = (tmp2/tmp1)**(1 - n)\n",
    "        timeBottom = tb + duration\n",
    "        if printFlag: print('tb = ' + str(tb + duration))\n",
    "        if printFlag: print('tb (hours) = ' + str((tb + duration)/3600))\n",
    "    \n",
    "    # ----- COMPUTE ANALYTICAL SOLUTIONS FOR THE TIME SERIES OF VOLUMETRIC LIQUID WATER PROFILE -----\n",
    "    # define the volumetric liquid water profile for multiple times\n",
    "    nTime = 60*10    # every minute for 10 hours\n",
    "    xTime = 3600*10*(np.arange(nTime)+1)/nTime  # time in seconds\n",
    "    #print('xTime = ' + str(xTime))\n",
    "    \n",
    "    # define depths\n",
    "    nDepth  = 100\n",
    "    yDepth  = depth*(np.arange(nDepth)+0.5)/nDepth\n",
    "    yHeight = depth*(np.arange(nDepth+1))/nDepth\n",
    "    #print('yDepth = ' + str(yDepth))\n",
    "    #print('yHeight = ' + str(yHeight))\n",
    "    \n",
    "    # define an array for the solution\n",
    "    volFracLiq = np.empty([nDepth,nTime])\n",
    "    \n",
    "    # loop through times\n",
    "    for iTime in range(0,nTime):  #IDL: for iTime=0,nTime-1 do begin\n",
    "        \n",
    "        # identify specific cases\n",
    "        # case 1: wetting front while rain is still falling\n",
    "        if (xTime[iTime] < timeWetting) and (xTime[iTime] < duration): \n",
    "            depthWetting = (xTime[iTime] - startRain)*celerityWetting\n",
    "            depthDrying  = 0\n",
    "   \n",
    "        # case 2: wetting front while rain is still falling\n",
    "        elif (xTime[iTime] >= timeWetting) and (xTime[iTime] < duration):\n",
    "            depthWetting = depth \n",
    "            depthDrying  = 0\n",
    "\n",
    "        # case 3: drying front above wetting front\n",
    "        elif (xTime[iTime] >= duration) and (xTime[iTime] < min([timeShock,timeDrying])):\n",
    "            depthWetting = (xTime[iTime] - startRain)*celerityWetting\n",
    "            depthDrying  = (xTime[iTime] - duration)*celerity\n",
    "\n",
    "        # case 4: propagation of the kinematic shock\n",
    "        elif (xTime[iTime] >= timeShock) and (xTime[iTime] < timeBottom):\n",
    "            depthWetting = getDepth(xTime[iTime], duration, timeShock, depthShock, depth, a, b, c, n)\n",
    "            depthDrying  = depthWetting\n",
    "   \n",
    "        # case 5: water reached the bottom of the snowpack\n",
    "        elif (xTime[iTime] >= timeBottom) and (xTime[iTime] >= duration): \n",
    "            depthWetting = depth\n",
    "            depthDrying  = depth\n",
    "\n",
    "        # check that we found everything\n",
    "        else: \n",
    "            print('Error: could not find case')\n",
    "            break\n",
    "        \n",
    "        # define areas of the snowpack\n",
    "        iDry = np.where(yDepth > depthWetting)                             # no change from intial state\n",
    "        iSat = np.where((yDepth <= depthWetting) & (yDepth > depthDrying)) # maximum possible wetting\n",
    "        iMid = np.where(yDepth < depthDrying)                              # drying phase\n",
    "\n",
    "        # check whether we've found the state for each defined depth\n",
    "        nDry = len(iDry[0])\n",
    "        nSat = len(iSat[0])\n",
    "        nMid = len(iMid[0])\n",
    "        if(nDry+nSat+nMid != nDepth):\n",
    "            print('Error: problem identifying different areas of the snowpack')\n",
    "            break\n",
    "        \n",
    "        # define volumetric fraction of liquid water\n",
    "        if(nDry > 0):\n",
    "            volFracLiq[iDry,iTime] = thetaLiq[iExp]                # initial state\n",
    "        if(nSat > 0):\n",
    "            volFracLiq[iSat,iTime] = thetaRequire + thetaLiq[iExp] # maximum possible wetting\n",
    "        if(nMid > 0):\n",
    "            satProfile             = ( (porosity - residLiq)*yDepth[iMid]/(n*conductivity*(xTime[iTime] - duration)) )**(1/(n - 1))\n",
    "            volFracLiq[iMid,iTime] = residLiq + (porosity - residLiq)*satProfile\n",
    "    \n",
    "    # ----- store the results in specific variables for plotting -----\n",
    "    if iExp == 0:   volFraqLiq_analytical_exp1 = volFracLiq\n",
    "    elif iExp == 1: volFraqLiq_analytical_exp2 = volFracLiq\n",
    "    elif iExp == 2: volFraqLiq_analytical_exp3 = volFracLiq\n",
    "    \n",
    "    # ----- end of experiment -----\n",
    "    if printFlag: print('\\n')   "
   ]
  },
  {
   "cell_type": "code",
   "execution_count": 15,
   "metadata": {},
   "outputs": [],
   "source": [
    "# auxiliary function \n",
    "# ----- compute depth for a given time after the kinematic shock -----\n",
    "# use bi-section method to compute depth for a given time after the kinematic shock\n",
    "def getDepth(xTime, timeCenter, timeShock, depthShock, depthTotal, a, b, c, n):\n",
    "\n",
    "# return value:\n",
    "# depth of the kinematic shock at time xTime\n",
    "\n",
    "# inputs:\n",
    "# xTime      = desired time\n",
    "# timeCenter = center time of the characteristics, the time that rainfall ends (timeShock > timeEnd)\n",
    "# timeShock  = time of the kinematic shock (xTime > timeShock)\n",
    "# depthShock = depth of the kinematic shock\n",
    "# depthTotal = total depth of snow\n",
    "# a, b, c    = constants\n",
    "# n          = exponent\n",
    "\n",
    "    # define the print flag for progress reports\n",
    "    print=0  #1 \n",
    "\n",
    "    # define the number of iterations\n",
    "    niter = 100\n",
    "\n",
    "    # define the convergence criteria\n",
    "    convTol = 0.000001\n",
    "\n",
    "    # define brackets\n",
    "    d0 = depthTotal\n",
    "    d1 = depthShock\n",
    "\n",
    "    # iterate\n",
    "    for iter in range(1,niter+1):\n",
    "\n",
    "        # get midpoint\n",
    "        depthTrial = 0.5*(d0 + d1)\n",
    "\n",
    "        # trial solution\n",
    "        tmp1 = a*(1 - n) - b*((n - 1)/n)*( depthTrial**(n/(n - 1)) - depthShock**(n/(n - 1)) )\n",
    "        tmp2 = a*(1 - n)*(timeShock - timeCenter)**(1/(1 - n)) + c*(depthTrial - depthShock)\n",
    "        tt   = (tmp2/tmp1)**(1 - n) + timeCenter\n",
    "\n",
    "        # function evaluation\n",
    "        if(abs(tt - xTime) < convTol):\n",
    "            break\n",
    "        if(iter == niter): \n",
    "            sys.exit('Error: convergence problem in getDepth -- maximum iterations reached')\n",
    "\n",
    "        # print\n",
    "        if(print):\n",
    "            print('iter, d0, d1, depthTrial, tt, xTime = %f, %f, %f, %f, %f, %f' % (iter, d0, d1, depthTrial, tt, xTime))\n",
    "\n",
    "        # update bounds\n",
    "        if(xTime < tt): \n",
    "            d0=depthTrial\n",
    "        if(xTime > tt): \n",
    "            d1=depthTrial\n",
    "\n",
    "    return depthTrial"
   ]
  },
  {
   "cell_type": "markdown",
   "metadata": {},
   "source": [
    "## Numerical results"
   ]
  },
  {
   "cell_type": "code",
   "execution_count": 16,
   "metadata": {},
   "outputs": [],
   "source": [
    "# Specify the data locations relative to the notebook\n",
    "sim_path = Path(\"./output\")\n",
    "sim_file = ['colbeck1976-exp1_output_timestep_fida.nc', 'colbeck1976-exp2_output_timestep_fida.nc', 'colbeck1976-exp3_output_timestep_fida.nc']"
   ]
  },
  {
   "cell_type": "code",
   "execution_count": 17,
   "metadata": {},
   "outputs": [],
   "source": [
    "# Define the sub-selection to extract\n",
    "hru_idx = 0 # there's only 1 HRU but this turns a 3D dataframe into 2D, which is easier with plotting\n",
    "lay_idx = np.arange(0,100) # there are 120 snow layers in the numerical simulations, but only layers up till depth = 1m are needed"
   ]
  },
  {
   "cell_type": "code",
   "execution_count": 18,
   "metadata": {},
   "outputs": [],
   "source": [
    "# Loop through the experiments and extract the data\n",
    "for iExp in range(0,3):\n",
    "    \n",
    "    # Load the .nc file\n",
    "    ds = xr.open_dataset( sim_path / sim_file[iExp] )\n",
    "\n",
    "    # Extract the variable of interest\n",
    "    mLayerVolFracLiq = ds.mLayerVolFracLiq\n",
    "    \n",
    "    # Store in temporary variables\n",
    "    if iExp == 0:   volFraqLiq_numerical_exp1 = mLayerVolFracLiq.isel(midToto=lay_idx,hru=hru_idx)\n",
    "    elif iExp == 1: volFraqLiq_numerical_exp2 = mLayerVolFracLiq.isel(midToto=lay_idx,hru=hru_idx)\n",
    "    elif iExp == 2: volFraqLiq_numerical_exp3 = mLayerVolFracLiq.isel(midToto=lay_idx,hru=hru_idx)"
   ]
  },
  {
   "cell_type": "markdown",
   "metadata": {},
   "source": [
    "## Plotting"
   ]
  },
  {
   "cell_type": "code",
   "execution_count": 19,
   "metadata": {},
   "outputs": [],
   "source": [
    "# Ensure that we can actually read the figure labels\n",
    "font = {'weight' : 'normal',\n",
    "        'size'   : 18}\n",
    "plt.rc('font', **font);"
   ]
  },
  {
   "cell_type": "code",
   "execution_count": 20,
   "metadata": {},
   "outputs": [
    {
     "data": {
      "text/plain": [
       "<Figure size 432x288 with 0 Axes>"
      ]
     },
     "metadata": {},
     "output_type": "display_data"
    }
   ],
   "source": [
    "# Specify some figure-wide settings\n",
    "plt.set_cmap('jet');         # Choose a colormap\n",
    "cmin, cmax = 0,0.2          # Color limits"
   ]
  },
  {
   "cell_type": "code",
   "execution_count": 21,
   "metadata": {},
   "outputs": [
    {
     "ename": "NameError",
     "evalue": "name 'volFraqLiq_analytical_exp3' is not defined",
     "output_type": "error",
     "traceback": [
      "\u001b[0;31m---------------------------------------------------------------------------\u001b[0m",
      "\u001b[0;31mNameError\u001b[0m                                 Traceback (most recent call last)",
      "\u001b[0;32m<ipython-input-21-45eef56c80ff>\u001b[0m in \u001b[0;36m<module>\u001b[0;34m()\u001b[0m\n\u001b[1;32m     14\u001b[0m         \u001b[0mvolFracLiq_n\u001b[0m \u001b[0;34m=\u001b[0m \u001b[0mvolFraqLiq_numerical_exp2\u001b[0m\u001b[0;34m\u001b[0m\u001b[0;34m\u001b[0m\u001b[0m\n\u001b[1;32m     15\u001b[0m     \u001b[0;32melif\u001b[0m \u001b[0miExp\u001b[0m \u001b[0;34m==\u001b[0m \u001b[0;36m2\u001b[0m\u001b[0;34m:\u001b[0m\u001b[0;34m\u001b[0m\u001b[0;34m\u001b[0m\u001b[0m\n\u001b[0;32m---> 16\u001b[0;31m         \u001b[0mvolFracLiq_a\u001b[0m \u001b[0;34m=\u001b[0m \u001b[0mvolFraqLiq_analytical_exp3\u001b[0m\u001b[0;34m\u001b[0m\u001b[0;34m\u001b[0m\u001b[0m\n\u001b[0m\u001b[1;32m     17\u001b[0m         \u001b[0mvolFracLiq_n\u001b[0m \u001b[0;34m=\u001b[0m \u001b[0mvolFraqLiq_numerical_exp3\u001b[0m\u001b[0;34m\u001b[0m\u001b[0;34m\u001b[0m\u001b[0m\n\u001b[1;32m     18\u001b[0m \u001b[0;34m\u001b[0m\u001b[0m\n",
      "\u001b[0;31mNameError\u001b[0m: name 'volFraqLiq_analytical_exp3' is not defined"
     ]
    },
    {
     "data": {
      "image/png": "[encoded data removed]",
      "text/plain": [
       "<Figure size 880x800 with 6 Axes>"
      ]
     },
     "metadata": {},
     "output_type": "display_data"
    }
   ],
   "source": [
    "# Open a figure\n",
    "fig, ax = plt.subplots(3,2, figsize=(11, 10), dpi= 80, facecolor='w', edgecolor='k');\n",
    "fig.tight_layout()          # Switch to more spacious layout\n",
    "\n",
    "# Plot the three analytical and numerical results for each of the three experiments\n",
    "for iExp in range(0,3):\n",
    "    \n",
    "    # Get the data\n",
    "    if iExp == 0:   \n",
    "        volFracLiq_a = volFraqLiq_analytical_exp1\n",
    "        volFracLiq_n = volFraqLiq_numerical_exp1        \n",
    "    elif iExp == 1: \n",
    "        volFracLiq_a = volFraqLiq_analytical_exp2\n",
    "        volFracLiq_n = volFraqLiq_numerical_exp2\n",
    "    elif iExp == 2: \n",
    "        volFracLiq_a = volFraqLiq_analytical_exp3\n",
    "        volFracLiq_n = volFraqLiq_numerical_exp3\n",
    "        \n",
    "    # plot the results\n",
    "    im = ax[iExp,0].imshow(volFracLiq_a, \\\n",
    "                           aspect='auto', \\\n",
    "                           extent=[xTime[0]/3600,xTime[-1]/3600,yHeight[-1],yHeight[0]], \\\n",
    "                           vmin=cmin, vmax=cmax)\n",
    "    im = ax[iExp,1].imshow(volFracLiq_n.transpose(), \\\n",
    "                           aspect='auto', \\\n",
    "                           extent=[xTime[0]/3600,xTime[-1]/3600,yHeight[-1],yHeight[0]], \\\n",
    "                           vmin=cmin, vmax=cmax)\n",
    "    \n",
    "    # Axes\n",
    "    ax[iExp,0].set_xticks(np.arange(0,10.01,2))\n",
    "    ax[iExp,1].set_xticks(np.arange(0,10.01,2))\n",
    "    \n",
    "    # Label etc\n",
    "    ax[0,0].set_title('Analytical solution')\n",
    "    ax[0,1].set_title('Numerical solution')\n",
    "    ax[2,0].set_xlabel('Time [h]')\n",
    "    ax[2,1].set_xlabel('Time [h]')\n",
    "    ax[iExp,0].set_ylabel(expName[iExp] + '\\nDepth [m]')\n",
    "\n",
    "# make a colorbar\n",
    "cbar_ax = fig.add_axes([1, 0.055, 0.03, .91])\n",
    "cbar = fig.colorbar(im, cax=cbar_ax);\n",
    "cbar.set_ticks(np.arange(0,0.201,0.02))\n",
    "cbar.set_label('Volumetric liquid water content [-]', labelpad=10)\n",
    "\n",
    "# save the figure\n",
    "plt.savefig('img/lt5_colbeck1976_contours_fida.png',bbox_inches = 'tight');"
   ]
  },
  {
   "cell_type": "code",
   "execution_count": 22,
   "metadata": {},
   "outputs": [
    {
     "ename": "ValueError",
     "evalue": "operands could not be broadcast together with shapes (100,600) (100,9) ",
     "output_type": "error",
     "traceback": [
      "\u001b[0;31m---------------------------------------------------------------------------\u001b[0m",
      "\u001b[0;31mValueError\u001b[0m                                Traceback (most recent call last)",
      "\u001b[0;32m<ipython-input-22-d58a67e3ada3>\u001b[0m in \u001b[0;36m<module>\u001b[0;34m()\u001b[0m\n\u001b[1;32m     19\u001b[0m \u001b[0;34m\u001b[0m\u001b[0m\n\u001b[1;32m     20\u001b[0m     \u001b[0;31m# Calculate the difference\u001b[0m\u001b[0;34m\u001b[0m\u001b[0;34m\u001b[0m\u001b[0;34m\u001b[0m\u001b[0m\n\u001b[0;32m---> 21\u001b[0;31m     \u001b[0mdiff\u001b[0m \u001b[0;34m=\u001b[0m \u001b[0mvolFracLiq_a\u001b[0m\u001b[0;34m-\u001b[0m\u001b[0mvolFracLiq_n\u001b[0m\u001b[0;34m.\u001b[0m\u001b[0mtranspose\u001b[0m\u001b[0;34m(\u001b[0m\u001b[0;34m)\u001b[0m\u001b[0;34m\u001b[0m\u001b[0;34m\u001b[0m\u001b[0m\n\u001b[0m\u001b[1;32m     22\u001b[0m \u001b[0;34m\u001b[0m\u001b[0m\n\u001b[1;32m     23\u001b[0m     \u001b[0;31m# plot data\u001b[0m\u001b[0;34m\u001b[0m\u001b[0;34m\u001b[0m\u001b[0;34m\u001b[0m\u001b[0m\n",
      "\u001b[0;32m/usr/lib/python3/dist-packages/xarray/core/arithmetic.py\u001b[0m in \u001b[0;36m__array_ufunc__\u001b[0;34m(self, ufunc, method, *inputs, **kwargs)\u001b[0m\n\u001b[1;32m     69\u001b[0m                            \u001b[0mdataset_fill_value\u001b[0m\u001b[0;34m=\u001b[0m\u001b[0mnp\u001b[0m\u001b[0;34m.\u001b[0m\u001b[0mnan\u001b[0m\u001b[0;34m,\u001b[0m\u001b[0;34m\u001b[0m\u001b[0;34m\u001b[0m\u001b[0m\n\u001b[1;32m     70\u001b[0m                            \u001b[0mkwargs\u001b[0m\u001b[0;34m=\u001b[0m\u001b[0mkwargs\u001b[0m\u001b[0;34m,\u001b[0m\u001b[0;34m\u001b[0m\u001b[0;34m\u001b[0m\u001b[0m\n\u001b[0;32m---> 71\u001b[0;31m                            dask='allowed')\n\u001b[0m\u001b[1;32m     72\u001b[0m \u001b[0;34m\u001b[0m\u001b[0m\n\u001b[1;32m     73\u001b[0m     \u001b[0;31m# this has no runtime function - these are listed so IDEs know these\u001b[0m\u001b[0;34m\u001b[0m\u001b[0;34m\u001b[0m\u001b[0;34m\u001b[0m\u001b[0m\n",
      "\u001b[0;32m/usr/lib/python3/dist-packages/xarray/core/computation.py\u001b[0m in \u001b[0;36mapply_ufunc\u001b[0;34m(func, *args, **kwargs)\u001b[0m\n\u001b[1;32m    932\u001b[0m                                      \u001b[0mjoin\u001b[0m\u001b[0;34m=\u001b[0m\u001b[0mjoin\u001b[0m\u001b[0;34m,\u001b[0m\u001b[0;34m\u001b[0m\u001b[0;34m\u001b[0m\u001b[0m\n\u001b[1;32m    933\u001b[0m                                      \u001b[0mexclude_dims\u001b[0m\u001b[0;34m=\u001b[0m\u001b[0mexclude_dims\u001b[0m\u001b[0;34m,\u001b[0m\u001b[0;34m\u001b[0m\u001b[0;34m\u001b[0m\u001b[0m\n\u001b[0;32m--> 934\u001b[0;31m                                      keep_attrs=keep_attrs)\n\u001b[0m\u001b[1;32m    935\u001b[0m     \u001b[0;32melif\u001b[0m \u001b[0many\u001b[0m\u001b[0;34m(\u001b[0m\u001b[0misinstance\u001b[0m\u001b[0;34m(\u001b[0m\u001b[0ma\u001b[0m\u001b[0;34m,\u001b[0m \u001b[0mVariable\u001b[0m\u001b[0;34m)\u001b[0m \u001b[0;32mfor\u001b[0m \u001b[0ma\u001b[0m \u001b[0;32min\u001b[0m \u001b[0margs\u001b[0m\u001b[0;34m)\u001b[0m\u001b[0;34m:\u001b[0m\u001b[0;34m\u001b[0m\u001b[0;34m\u001b[0m\u001b[0m\n\u001b[1;32m    936\u001b[0m         \u001b[0;32mreturn\u001b[0m \u001b[0mvariables_ufunc\u001b[0m\u001b[0;34m(\u001b[0m\u001b[0;34m*\u001b[0m\u001b[0margs\u001b[0m\u001b[0;34m)\u001b[0m\u001b[0;34m\u001b[0m\u001b[0;34m\u001b[0m\u001b[0m\n",
      "\u001b[0;32m/usr/lib/python3/dist-packages/xarray/core/computation.py\u001b[0m in \u001b[0;36mapply_dataarray_ufunc\u001b[0;34m(func, *args, **kwargs)\u001b[0m\n\u001b[1;32m    209\u001b[0m \u001b[0;34m\u001b[0m\u001b[0m\n\u001b[1;32m    210\u001b[0m     \u001b[0mdata_vars\u001b[0m \u001b[0;34m=\u001b[0m \u001b[0;34m[\u001b[0m\u001b[0mgetattr\u001b[0m\u001b[0;34m(\u001b[0m\u001b[0ma\u001b[0m\u001b[0;34m,\u001b[0m \u001b[0;34m'variable'\u001b[0m\u001b[0;34m,\u001b[0m \u001b[0ma\u001b[0m\u001b[0;34m)\u001b[0m \u001b[0;32mfor\u001b[0m \u001b[0ma\u001b[0m \u001b[0;32min\u001b[0m \u001b[0margs\u001b[0m\u001b[0;34m]\u001b[0m\u001b[0;34m\u001b[0m\u001b[0;34m\u001b[0m\u001b[0m\n\u001b[0;32m--> 211\u001b[0;31m     \u001b[0mresult_var\u001b[0m \u001b[0;34m=\u001b[0m \u001b[0mfunc\u001b[0m\u001b[0;34m(\u001b[0m\u001b[0;34m*\u001b[0m\u001b[0mdata_vars\u001b[0m\u001b[0;34m)\u001b[0m\u001b[0;34m\u001b[0m\u001b[0;34m\u001b[0m\u001b[0m\n\u001b[0m\u001b[1;32m    212\u001b[0m \u001b[0;34m\u001b[0m\u001b[0m\n\u001b[1;32m    213\u001b[0m     \u001b[0;32mif\u001b[0m \u001b[0msignature\u001b[0m\u001b[0;34m.\u001b[0m\u001b[0mnum_outputs\u001b[0m \u001b[0;34m>\u001b[0m \u001b[0;36m1\u001b[0m\u001b[0;34m:\u001b[0m\u001b[0;34m\u001b[0m\u001b[0;34m\u001b[0m\u001b[0m\n",
      "\u001b[0;32m/usr/lib/python3/dist-packages/xarray/core/computation.py\u001b[0m in \u001b[0;36mapply_variable_ufunc\u001b[0;34m(func, *args, **kwargs)\u001b[0m\n\u001b[1;32m    563\u001b[0m             raise ValueError('unknown setting for dask array handling in '\n\u001b[1;32m    564\u001b[0m                              'apply_ufunc: {}'.format(dask))\n\u001b[0;32m--> 565\u001b[0;31m     \u001b[0mresult_data\u001b[0m \u001b[0;34m=\u001b[0m \u001b[0mfunc\u001b[0m\u001b[0;34m(\u001b[0m\u001b[0;34m*\u001b[0m\u001b[0minput_data\u001b[0m\u001b[0;34m)\u001b[0m\u001b[0;34m\u001b[0m\u001b[0;34m\u001b[0m\u001b[0m\n\u001b[0m\u001b[1;32m    566\u001b[0m \u001b[0;34m\u001b[0m\u001b[0m\n\u001b[1;32m    567\u001b[0m     \u001b[0;32mif\u001b[0m \u001b[0msignature\u001b[0m\u001b[0;34m.\u001b[0m\u001b[0mnum_outputs\u001b[0m \u001b[0;34m>\u001b[0m \u001b[0;36m1\u001b[0m\u001b[0;34m:\u001b[0m\u001b[0;34m\u001b[0m\u001b[0;34m\u001b[0m\u001b[0m\n",
      "\u001b[0;31mValueError\u001b[0m: operands could not be broadcast together with shapes (100,600) (100,9) "
     ]
    },
    {
     "data": {
      "image/png": "[encoded data removed]",
      "text/plain": [
       "<Figure size 440x800 with 3 Axes>"
      ]
     },
     "metadata": {},
     "output_type": "display_data"
    }
   ],
   "source": [
    "# Open a figure\n",
    "fig, ax = plt.subplots(3,1, figsize=(5.5, 10), dpi= 80, facecolor='w', edgecolor='k');\n",
    "fig.tight_layout()          # Switch to more spacious layout\n",
    "plt.set_cmap('Spectral');         # Choose a colormap\n",
    "\n",
    "# Plot the three analytical and numerical results for each of the three experiments\n",
    "for iExp in range(0,3):\n",
    "    \n",
    "    # Get the data\n",
    "    if iExp == 0:   \n",
    "        volFracLiq_a = volFraqLiq_analytical_exp1\n",
    "        volFracLiq_n = volFraqLiq_numerical_exp1        \n",
    "    elif iExp == 1: \n",
    "        volFracLiq_a = volFraqLiq_analytical_exp2\n",
    "        volFracLiq_n = volFraqLiq_numerical_exp2\n",
    "    elif iExp == 2: \n",
    "        volFracLiq_a = volFraqLiq_analytical_exp3\n",
    "        volFracLiq_n = volFraqLiq_numerical_exp3\n",
    "    \n",
    "    # Calculate the difference\n",
    "    diff = volFracLiq_a-volFracLiq_n.transpose()\n",
    "    \n",
    "    # plot data\n",
    "    im = ax[iExp].imshow(diff, \n",
    "                         aspect='auto', \n",
    "                         extent=[xTime[0]/3600,xTime[-1]/3600,yHeight[-1],yHeight[0]])\n",
    "                         #vmin=cmin,vmax=cmax)\n",
    "    \n",
    "    # Axes\n",
    "    ax[iExp].set_xticks(np.arange(0,10.01,2))\n",
    "    \n",
    "    # Label etc\n",
    "    ax[0].set_title('Analytical - numerical solution')\n",
    "    ax[2].set_xlabel('Time [h]')\n",
    "    ax[iExp].set_ylabel(expName[iExp] + '\\nDepth [m]')\n",
    "    fig.colorbar(im,ax=ax[iExp])\n",
    "    \n",
    "# save \n",
    "plt.savefig('img/lt5_colbeck1976_contours_difference.png',bbox_inches = 'tight');"
   ]
  },
  {
   "cell_type": "code",
   "execution_count": null,
   "metadata": {},
   "outputs": [],
   "source": []
  }
 ],
 "metadata": {
  "kernelspec": {
   "display_name": "Python 3",
   "language": "python",
   "name": "python3"
  },
  "language_info": {
   "codemirror_mode": {
    "name": "ipython",
    "version": 3
   },
   "file_extension": ".py",
   "mimetype": "text/x-python",
   "name": "python",
   "nbconvert_exporter": "python",
   "pygments_lexer": "ipython3",
   "version": "3.6.9"
  }
 },
 "nbformat": 4,
 "nbformat_minor": 4
}
